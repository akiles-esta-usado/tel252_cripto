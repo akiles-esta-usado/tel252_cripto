{
 "cells": [
  {
   "cell_type": "markdown",
   "metadata": {},
   "source": [
    "## Presentación de Código\n",
    "\n",
    "El código hasta ahora se basa en implementar clases que operen bajo la aritmética modular, anillos enteros y curvas elípticas"
   ]
  },
  {
   "cell_type": "code",
   "execution_count": 12,
   "metadata": {},
   "outputs": [
    {
     "name": "stdout",
     "output_type": "stream",
     "text": [
      "EC17:\n",
      "  (a, b, p) = (2, 2, 17)\n",
      "  y**2 = x**3 + 2x + 2 mod 17\n",
      "P: (5, 1) in Z17\n",
      "R = 2P: (6, 3) in Z17\n",
      "Z = R+Z: (10, 6) in Z17\n",
      "-P: (5, 16) in Z17\n",
      "1 (5, 1) in Z17\n",
      "2 (6, 3) in Z17\n",
      "3 (10, 6) in Z17\n",
      "4 (3, 1) in Z17\n",
      "5 (9, 16) in Z17\n",
      "6 (16, 13) in Z17\n",
      "7 (0, 6) in Z17\n",
      "8 (13, 7) in Z17\n",
      "9 (7, 6) in Z17\n",
      "10 (7, 11) in Z17\n",
      "11 (13, 10) in Z17\n",
      "12 (0, 11) in Z17\n",
      "13 (16, 4) in Z17\n",
      "14 (9, 1) in Z17\n",
      "15 (3, 16) in Z17\n",
      "16 (10, 11) in Z17\n",
      "17 (6, 14) in Z17\n",
      "18 (5, 16) in Z17\n",
      "19 (7, 1) in Z17\n",
      "20 (5, 1) in Z17\n",
      "21 (6, 3) in Z17\n",
      "22 (10, 6) in Z17\n",
      "23 (3, 1) in Z17\n",
      "24 (9, 16) in Z17\n",
      "25 (16, 13) in Z17\n",
      "26 (0, 6) in Z17\n",
      "27 (13, 7) in Z17\n",
      "28 (7, 6) in Z17\n",
      "29 (7, 11) in Z17\n"
     ]
    }
   ],
   "source": [
    "from Arithmetic.curva_eliptica import CurvaEliptica\n",
    "\n",
    "EC17 = CurvaEliptica(p=17, a=2, b=2)\n",
    "print(EC17)\n",
    "\n",
    "P = EC17(5, 1)\n",
    "R = EC17.add(P, P)\n",
    "Z = EC17.add(P, R)\n",
    "\n",
    "print(\"P: {0}\".format(P))\n",
    "print(\"R = 2P: {0}\".format(R))\n",
    "print(\"Z = R+Z: {0}\".format(Z))\n",
    "print(\"-P: {0}\".format(-P))\n",
    "\n",
    "for i in range(1, 30):\n",
    "    print(i, P*i)"
   ]
  },
  {
   "cell_type": "markdown",
   "metadata": {},
   "source": [
    "## Diagramas de código a implementar\n",
    "\n",
    "### DHKE\n",
    "![title](images/img1.png)\n",
    "\n",
    "### Counter Mode\n",
    "![title](images/img2.png)\n",
    "\n",
    "### Galois Counter Mode\n",
    "![title](images/img3.png)"
   ]
  }
 ],
 "metadata": {
  "kernelspec": {
   "display_name": "Python 3.6.9 64-bit",
   "language": "python",
   "name": "python36964bit1c6a4dcc4058452dad09279174e3c7b4"
  },
  "language_info": {
   "codemirror_mode": {
    "name": "ipython",
    "version": 3
   },
   "file_extension": ".py",
   "mimetype": "text/x-python",
   "name": "python",
   "nbconvert_exporter": "python",
   "pygments_lexer": "ipython3",
   "version": "3.6.9"
  },
  "varInspector": {
   "cols": {
    "lenName": 16,
    "lenType": 16,
    "lenVar": 40
   },
   "kernels_config": {
    "python": {
     "delete_cmd_postfix": "",
     "delete_cmd_prefix": "del ",
     "library": "var_list.py",
     "varRefreshCmd": "print(var_dic_list())"
    },
    "r": {
     "delete_cmd_postfix": ") ",
     "delete_cmd_prefix": "rm(",
     "library": "var_list.r",
     "varRefreshCmd": "cat(var_dic_list()) "
    }
   },
   "types_to_exclude": [
    "module",
    "function",
    "builtin_function_or_method",
    "instance",
    "_Feature"
   ],
   "window_display": false
  }
 },
 "nbformat": 4,
 "nbformat_minor": 4
}
